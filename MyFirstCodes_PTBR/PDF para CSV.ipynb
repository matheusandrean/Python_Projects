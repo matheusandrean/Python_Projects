{
 "cells": [
  {
   "cell_type": "code",
   "execution_count": null,
   "id": "f3910d15",
   "metadata": {},
   "outputs": [],
   "source": [
    "import tabula as tb\n",
    "import pandas as pd\n",
    "import csv"
   ]
  },
  {
   "cell_type": "code",
   "execution_count": null,
   "id": "a4b92595",
   "metadata": {},
   "outputs": [],
   "source": [
    "#Convertendo o arquivo pdf em csv\n",
    "tabela = tb.read_pdf(\"SUL_Oseltamivir.pdf\", pages='all', encoding = 'utf-8')\n",
    "\n",
    "tb.convert_into(\"SUL_Oseltamivir.pdf\", \"teste.csv\", output_format=\"csv\", pages= 'all')"
   ]
  },
  {
   "cell_type": "code",
   "execution_count": null,
   "id": "1dd4cd39",
   "metadata": {},
   "outputs": [],
   "source": [
    "teste = open('teste.csv', 'r')"
   ]
  },
  {
   "cell_type": "code",
   "execution_count": null,
   "id": "089840a2",
   "metadata": {},
   "outputs": [],
   "source": [
    "data = teste.read()"
   ]
  },
  {
   "cell_type": "code",
   "execution_count": null,
   "id": "f2a9b3de",
   "metadata": {},
   "outputs": [],
   "source": [
    "rows = data.split('\\n')"
   ]
  },
  {
   "cell_type": "code",
   "execution_count": null,
   "id": "757ce84a",
   "metadata": {},
   "outputs": [],
   "source": [
    "full_data = []"
   ]
  },
  {
   "cell_type": "code",
   "execution_count": null,
   "id": "2566031c",
   "metadata": {},
   "outputs": [],
   "source": [
    "for row in rows:\n",
    "    split_row = row.split(\",\")\n",
    "    full_data.append(split_row)"
   ]
  },
  {
   "cell_type": "code",
   "execution_count": null,
   "id": "14731ed8",
   "metadata": {},
   "outputs": [],
   "source": [
    "print(full_data)"
   ]
  },
  {
   "cell_type": "code",
   "execution_count": null,
   "id": "8b8ffc46",
   "metadata": {},
   "outputs": [],
   "source": [
    "teste = pd.read_csv('teste.csv', 'r')"
   ]
  },
  {
   "cell_type": "code",
   "execution_count": null,
   "id": "d5f8a2e0",
   "metadata": {},
   "outputs": [],
   "source": []
  }
 ],
 "metadata": {
  "kernelspec": {
   "display_name": "Python 3",
   "language": "python",
   "name": "python3"
  },
  "language_info": {
   "codemirror_mode": {
    "name": "ipython",
    "version": 3
   },
   "file_extension": ".py",
   "mimetype": "text/x-python",
   "name": "python",
   "nbconvert_exporter": "python",
   "pygments_lexer": "ipython3",
   "version": "3.8.8"
  }
 },
 "nbformat": 4,
 "nbformat_minor": 5
}
